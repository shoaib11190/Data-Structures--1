{
  "nbformat": 4,
  "nbformat_minor": 0,
  "metadata": {
    "colab": {
      "provenance": []
    },
    "kernelspec": {
      "name": "python3",
      "display_name": "Python 3"
    },
    "language_info": {
      "name": "python"
    }
  },
  "cells": [
    {
      "cell_type": "markdown",
      "source": [
        "# DATA STRUCTURES"
      ],
      "metadata": {
        "id": "d9jfnPZaW8LF"
      }
    },
    {
      "cell_type": "markdown",
      "source": [
        "Ques 1. What are data structures, and why are they important?\n",
        "\n",
        "Ans. A data structure is a way of organizing and storing data in a computer so that it can be accessed and used efficiently.A data structure is a specialized format for organizing, processing, retrieving and storing data. There are several basic and advanced types of data structures, all designed to arrange data to suit a specific purpose. Data structures make it easy for users to access and work with the data they need.\n",
        "\n",
        "\n"
      ],
      "metadata": {
        "id": "eUD67P8mXLb1"
      }
    },
    {
      "cell_type": "markdown",
      "source": [
        "Ques 2.  Explain the difference between mutable and immutable data types with examples.\n",
        "\n",
        "Ans.The main difference between mutable and immutable data types is that mutable data types can be changed after they are created, Then immutable data type cannot change after the creation.In Python, mutable types (like lists, dictionaries) can be changed after creation, while immutable types (like strings, tuples) cannot be altered once defined, ensuring data integrity and safety."
      ],
      "metadata": {
        "id": "TqYbpzeFYtUA"
      }
    },
    {
      "cell_type": "markdown",
      "source": [
        "Ques 3. What are the main differences between lists and tuples in Python?\n",
        "\n",
        "Ans.3 The main difference between tuples and lists is that tuples are immutable, meaning their contents cannot be changed after creation, while lists are mutable and can be modified."
      ],
      "metadata": {
        "id": "veNqzf5bbDA6"
      }
    },
    {
      "cell_type": "markdown",
      "source": [
        "Ques 4. Describe how dictionaries store data?\n",
        "\n",
        "Ans 4. Dictionaries are used to store data values in key:value pairs. A dictionary is a collection which is ordered*, changeable and do not allow duplicates values."
      ],
      "metadata": {
        "id": "II4xvugqbqsz"
      }
    },
    {
      "cell_type": "markdown",
      "source": [
        "Qus 5. Why might you use a set instead of a list in Python.\n",
        "\n",
        "Ans 5.\n",
        "Because sets cannot have multiple occurrences of the same element, it makes sets highly useful to efficiently remove duplicate values from a list or tuple and to perform common math operations like unions and intersections."
      ],
      "metadata": {
        "id": "8jewLyVwcj7o"
      }
    },
    {
      "cell_type": "markdown",
      "source": [
        "Ques 6. What is a string in Python, and how is it different from a list?\n",
        "\n",
        "Ans. 6\n",
        "string is a sequence of characters between single or double quotes. A list is a sequence of items, where each item could be anything an integer,float,string etc."
      ],
      "metadata": {
        "id": "JbmDL3L8dF-o"
      }
    },
    {
      "cell_type": "markdown",
      "source": [
        "Ques 7. How do tuples ensure data integrity in Python?\n",
        "\n",
        "Ans 7. Tuples are immutable to ensure that their contents remain constant throughout their lifecycle, guaranteeing data integrity and reliability. This immutability allows tuples to be used as keys in dictionaries and elements in sets, as they can be hashed."
      ],
      "metadata": {
        "id": "ZFvjqXapdsSn"
      }
    },
    {
      "cell_type": "markdown",
      "source": [
        "Ques 8. What is a hash table, and how does it relate to dictionaries in Python?\n",
        "\n",
        "Ans 8. A hash table is a data structure that stores key-value pairs, and Python dictionaries are built using hash tables."
      ],
      "metadata": {
        "id": "S9sP5_g-evnG"
      }
    },
    {
      "cell_type": "markdown",
      "source": [
        "Qus 9. Can lists contain different data types in Python?\n",
        "\n",
        "Ans 9.\n",
        "a list can also contain a mix of Python types including strings, floats, and booleans."
      ],
      "metadata": {
        "id": "V-a8na75fMpD"
      }
    },
    {
      "cell_type": "markdown",
      "source": [
        "Ques 10. Explain why strings are immutable in Python?\n",
        "\n",
        "Ans 10. Strings in Python are “immutable” which means they can not be changed after they are created. Some other immutable data types are integers, float, boolean."
      ],
      "metadata": {
        "id": "eFuFJ8EifgSu"
      }
    },
    {
      "cell_type": "markdown",
      "source": [
        "Ques 10 .What advantages do dictionaries offer over lists for certain tasks?\n",
        "\n",
        "Ans 10 .List\tDictionary\n",
        "It can contain duplicate elements.\tIt cannot contain duplicate keys.\n",
        "Slicing can be done.\tSlicing cannot be done.\n",
        "It is preferred when the contents are not fixed.\tIt is preferred when working with large amounts of data."
      ],
      "metadata": {
        "id": "yAqCT3iZf6ek"
      }
    },
    {
      "cell_type": "markdown",
      "source": [
        "Ques 11. Describe a scenario where using a tuple would be preferable over a list.\n",
        "\n",
        "Ans 11. Tuples can't be changed after they're created, but lists can be modified. Tuples use less memory than lists. They are also a bit faster, especially when you're just looking up values. So, if you have data that you don't want to change, it's better to use tuples instead of lists."
      ],
      "metadata": {
        "id": "eMzne1qCgXcS"
      }
    },
    {
      "cell_type": "markdown",
      "source": [
        "Ques 12. How do sets handle duplicate values in Python?\n",
        "\n",
        "Ans 12. Items of a set in python are immutable (unchangeable), do not duplicate values, and unordered.In Python, a set is an unordered collection of unique elements. This means that it automatically removes duplicate values. If you try to add a duplicate value to a set, the set will ignore it, ensuring that all elements remain unique."
      ],
      "metadata": {
        "id": "LjwAY3-Qgs29"
      }
    },
    {
      "cell_type": "markdown",
      "source": [
        "Qus 13. How does the “in” keyword work differently for lists and dictionaries?\n",
        "\n",
        "Ans 13.\n",
        "The in keyword in Python is used to check for membership or presence of an element within a container. While the fundamental idea of \"membership testing\" is similar for both lists and dictionaries, the way in works differs between the two data structures because of their underlying characteristics."
      ],
      "metadata": {
        "id": "yKZrmbAUhikp"
      }
    },
    {
      "cell_type": "markdown",
      "source": [
        "Qus !4.Can you modify the elements of a tuple? Explain why or why note?\n",
        "\n",
        "Ans 14.\n",
        "No, you cannot modify the elements of a tuple directly after the tuple has been created. Here's why.\n",
        "A tuple is an immutable data structure in Python. This means once a tuple is created, its size and content cannot be changed.\n",
        "You can't modify individual elements, add new elements, or remove elements from a tuple. If you attempt to change an element, Python will raise a TypeError"
      ],
      "metadata": {
        "id": "AGk2G1xxiaR9"
      }
    },
    {
      "cell_type": "markdown",
      "source": [
        "Ques 15. What is a nested dictionary, and give an example of its use case.\n",
        "\n",
        "Ans 15\n",
        "A nested dictionary is a dictionary that contains other dictionaries, and is a useful way to represent data with multiple layers of organization. Here are some examples of use cases for nested dictionaries."
      ],
      "metadata": {
        "id": "Qx64bPeHi2g1"
      }
    },
    {
      "cell_type": "markdown",
      "source": [
        "Ques 16. Describe the time complexity of accessing elements in a dictionary.\n",
        "\n",
        "Ans.\n",
        "The time complexity of accessing an element in a dictionary is O(1) on average, which means it takes a constant amount of time to search for a value in a dictionary."
      ],
      "metadata": {
        "id": "KBDWJRdFjTe1"
      }
    },
    {
      "cell_type": "markdown",
      "source": [
        "Ques 17.  In what situations are lists preferred over dictionaries.\n",
        "\n",
        "ans 17.\n",
        "\n",
        "If you need an ordered collection, like a sequence of user actions, lists are your go-to.\n",
        "On the other hand, when you need quick look-ups, like mapping usernames to user data, dictionaries are invaluable."
      ],
      "metadata": {
        "id": "6VoTq_QWjlFC"
      }
    },
    {
      "cell_type": "markdown",
      "source": [
        "Ques 18. Why are dictionaries considered unordered, and how does that affect data retrieval.\n",
        "\n",
        "Ans 18.\n",
        "Dictionaries are often considered unordered because the internal storage of key-value pairs does not guarantee a specific order. This characteristic is due to the way Python (and many other programming languages) implements dictionaries using hash tables."
      ],
      "metadata": {
        "id": "NVI8nrplkYVr"
      }
    },
    {
      "cell_type": "markdown",
      "source": [
        "Ques 19. Explain the difference between a list and a dictionary in terms of data retrieval.\n",
        "\n",
        "Ans.\n",
        "A list is an ordered collection of items, whereas a dictionary is an unordered data collection in a key: value pair. Elements from the list can be accessed using the index, while the elements of the dictionary can be accessed using keys"
      ],
      "metadata": {
        "id": "gnyv7zOKk7aV"
      }
    },
    {
      "cell_type": "markdown",
      "source": [
        "# **Practical Questions.........**"
      ],
      "metadata": {
        "id": "_kDnaqbblpaw"
      }
    },
    {
      "cell_type": "markdown",
      "source": [],
      "metadata": {
        "id": "GZ4gYmwsl6l1"
      }
    },
    {
      "cell_type": "code",
      "source": [
        "# Question 1.Write a code to create a string with your name and print it.\n",
        "\n",
        "'''\n",
        "# Create a string with my name\n",
        "\n",
        "my_name = \"Mohd Shoaib\"\n",
        "\n",
        "print(my_name)\n",
        "\n",
        "'''\n",
        "\n",
        "\n"
      ],
      "metadata": {
        "id": "yPTXriESlr6D"
      },
      "execution_count": null,
      "outputs": []
    },
    {
      "cell_type": "code",
      "source": [
        "# Question 2. Write a code to find the length of the string \"Hello World\".\n",
        "\n",
        "'''\n",
        "\n",
        "string = \"Hello World\"\n",
        "\n",
        "# Find the length of the string\n",
        "length = len(string)\n",
        "\n",
        "# Print the length\n",
        "print(\"The length of the string is:\", length)\n",
        "\n",
        "'''\n"
      ],
      "metadata": {
        "id": "MIJrz3gem3oO"
      },
      "execution_count": null,
      "outputs": []
    },
    {
      "cell_type": "code",
      "source": [
        "# Question 3. Write a code to slice the first 3 characters from the string \"Python Programming\".\n",
        "\n",
        "'''\n",
        "# Define the string\n",
        "string = \"Python Programming\"\n",
        "\n",
        "# Slice the first 3 characters\n",
        "sliced_string = string[:3]\n",
        "\n",
        "# Print the sliced string\n",
        "print(\"The first 3 characters are:\", sliced_string)\n",
        "\n",
        "'''"
      ],
      "metadata": {
        "id": "xLIE7EO8nWTT"
      },
      "execution_count": null,
      "outputs": []
    },
    {
      "cell_type": "code",
      "source": [
        "# Question 4. Write a code to convert the string \"hello\" to uppercase.\n",
        "\n",
        "'''\n",
        "\n",
        "# Define the string\n",
        "string = \"hello\"\n",
        "\n",
        "# Convert the string to uppercase\n",
        "uppercase_string = string.upper()\n",
        "\n",
        "\n",
        "print(\"The uppercase version of the string is:\", uppercase_string)\n",
        "\n",
        "'''\n"
      ],
      "metadata": {
        "id": "FdSO-bwvnzRx"
      },
      "execution_count": null,
      "outputs": []
    },
    {
      "cell_type": "code",
      "source": [
        "# Question 5.Write a code to replace the word \"apple\" with \"orange\" in the string \"I like apple\".\n",
        "\n",
        "'''\n",
        "# Original string\n",
        "text = \"I like apple\"\n",
        "\n",
        "# Replacing \"apple\" with \"orange\"\n",
        "updated_text = text.replace(\"apple\", \"orange\")\n",
        "\n",
        "# Output the updated string\n",
        "print(updated_text)\n",
        "\n",
        "'''\n"
      ],
      "metadata": {
        "id": "KujVC8OqoJPE"
      },
      "execution_count": null,
      "outputs": []
    },
    {
      "cell_type": "code",
      "source": [
        "# Question 6.Write a code to create a list with numbers 1 to 5 and print it.\n",
        "\n",
        "'''\n",
        "# Create a list with numbers 1 to 5\n",
        "numbers = [1, 2, 3, 4, 5]\n",
        "\n",
        "# Print the list\n",
        "print(numbers)\n",
        "\n",
        "'''"
      ],
      "metadata": {
        "id": "Y2E1iZ0Soqip"
      },
      "execution_count": null,
      "outputs": []
    },
    {
      "cell_type": "code",
      "source": [
        "# Question 7. Write a code to append the number 10 to the list [1, 2, 3, 4].\n",
        "\n",
        "'''\n",
        "# Initial list\n",
        "my_list = [1, 2, 3, 4]\n",
        "\n",
        "# Append 10 to the list\n",
        "my_list.append(10)\n",
        "\n",
        "# Print the updated list\n",
        "print(my_list)\n",
        "\n",
        "'''\n",
        "\n"
      ],
      "metadata": {
        "id": "uubexaA7pP5d"
      },
      "execution_count": null,
      "outputs": []
    },
    {
      "cell_type": "code",
      "source": [
        "# Question 8.Write a code to remove the number 3 from the list [1, 2, 3, 4, 5].\n",
        "\n",
        "'''\n",
        "# Initial list\n",
        "my_list = [1, 2, 3, 4, 5]\n",
        "\n",
        "\n",
        "my_list.remove(3)\n",
        "\n",
        "# Print the updated list\n",
        "print(my_list)\n",
        "\n",
        "..."
      ],
      "metadata": {
        "id": "juofxmzTple-"
      },
      "execution_count": null,
      "outputs": []
    },
    {
      "cell_type": "code",
      "source": [
        "# Question 9. Write a code to access the second element in the list ['a', 'b', 'c', 'd'].\n",
        "\n",
        "'''\n",
        "\n",
        "my_list = ['a', 'b', 'c', 'd']\n",
        "\n",
        "# Access the second element (index 1)\n",
        "second_element = my_list[1]\n",
        "\n",
        "# Print the second element\n",
        "print(second_element)\n",
        "\n",
        "'''\n"
      ],
      "metadata": {
        "id": "YzRhCSIVp9eB"
      },
      "execution_count": null,
      "outputs": []
    },
    {
      "cell_type": "code",
      "source": [
        "# Question 10. Write a code to reverse the list [10, 20, 30, 40, 50].\n",
        "\n",
        "'''\n",
        "\n",
        "my_list = [10, 20, 30, 40, 50]\n",
        "\n",
        "\n",
        "reversed_list = my_list[::-1]\n",
        "\n",
        "\n",
        "print(reversed_list)\n",
        "\n",
        "'''\n"
      ],
      "metadata": {
        "id": "gzepRfKjqRbK"
      },
      "execution_count": null,
      "outputs": []
    },
    {
      "cell_type": "code",
      "source": [
        "# Question 11. Write a code to create a tuple with the elements 10, 20, 30 and print it.\n",
        "\n",
        "'''\n",
        "# Create a tuple\n",
        "my_tuple = (10, 20, 30)\n",
        "\n",
        "# Print the tuple\n",
        "print(my_tuple)\n",
        "\n",
        "'''"
      ],
      "metadata": {
        "id": "M2dt00gKq4zw"
      },
      "execution_count": null,
      "outputs": []
    },
    {
      "cell_type": "code",
      "source": [
        "# Question 12. Write a code to access the first element of the tuple ('apple', 'banana', 'cherry').\n",
        "\n",
        "'''\n",
        "# Tuple\n",
        "my_tuple = ('apple', 'banana', 'cherry')\n",
        "\n",
        "\n",
        "first_element = my_tuple[0]\n",
        "\n",
        "\n",
        "print(first_element)\n",
        "\n",
        "'''\n",
        "\n"
      ],
      "metadata": {
        "id": "eJPcFMIZrKPa"
      },
      "execution_count": null,
      "outputs": []
    },
    {
      "cell_type": "code",
      "source": [
        "# Question 13. Write a code to count how many times the number 2 appears in the tuple (1, 2, 3, 2, 4, 2).\n",
        "\n",
        "'''\n",
        "\n",
        "my_tuple = (1, 2, 3, 2, 4, 2)\n",
        "\n",
        "# Counting how many times the number 2 appears\n",
        "count_2 = my_tuple.count(2)\n",
        "\n",
        "# Output the result\n",
        "print(count_2)\n",
        "\n",
        "'''\n"
      ],
      "metadata": {
        "id": "zv5HR9HBra_2"
      },
      "execution_count": null,
      "outputs": []
    },
    {
      "cell_type": "code",
      "source": [
        "# Question 14. Write a code to find the index of the element \"cat\" in the tuple ('dog', 'cat', 'rabbit').\n",
        "\n",
        "'''\n",
        "\n",
        "\n",
        "my_tuple = ('dog', 'cat', 'rabbit')\n",
        "\n",
        "# Finding the index of the element 'cat'\n",
        "index_of_cat = my_tuple.index('cat')\n",
        "\n",
        "# Output the result\n",
        "print(index_of_cat)\n",
        "\n",
        "'''\n"
      ],
      "metadata": {
        "id": "bF8Bo17yrvWv"
      },
      "execution_count": null,
      "outputs": []
    },
    {
      "cell_type": "code",
      "source": [
        "# Question 15. Write a code to check if the element \"banana\" is in the tuple ('apple', 'orange', 'banana').\n",
        "\n",
        "'''\n",
        "\n",
        "my_tuple = ('apple', 'orange', 'banana')\n",
        "\n",
        "# Checking if 'banana' is in the tuple\n",
        "is_banana_in_tuple = 'banana' in my_tuple\n",
        "\n",
        "# Output the result\n",
        "print(is_banana_in_tuple)\n",
        "\n",
        "'''\n"
      ],
      "metadata": {
        "id": "rzocCFqFsBFJ"
      },
      "execution_count": null,
      "outputs": []
    },
    {
      "cell_type": "code",
      "source": [
        "# Question 16. Write a code to create a set with the elements 1, 2, 3, 4, 5 and print it.\n",
        "\n",
        "'''\n",
        "\n",
        "my_set = {1, 2, 3, 4, 5}\n",
        "\n",
        "# Print the set\n",
        "print(my_set)\n",
        "\n",
        "'''\n"
      ],
      "metadata": {
        "id": "SZo94dhjsStM"
      },
      "execution_count": null,
      "outputs": []
    },
    {
      "cell_type": "code",
      "source": [
        "# Question 17.  Write a code to add the element 6 to the set {1, 2, 3, 4}.\n",
        "\n",
        "'''\n",
        "\n",
        "my_set = {1, 2, 3, 4}\n",
        "\n",
        "my_set.add(6)\n",
        "\n",
        "# Print the updated set\n",
        "print(my_set)\n",
        "\n",
        "'''\n"
      ],
      "metadata": {
        "id": "QaGsXpBYsts0"
      },
      "execution_count": null,
      "outputs": []
    },
    {
      "cell_type": "code",
      "source": [
        "# Question 18.  Write a code to create a tuple with the elements 10, 20, 30 and print it.\n",
        "\n",
        "'''\n",
        "my_tuple = (10, 20, 30)\n",
        "\n",
        "# Printing the tuple\n",
        "print(my_tuple)\n",
        "\n",
        "'''\n"
      ],
      "metadata": {
        "id": "EtRdvSRss_eT"
      },
      "execution_count": null,
      "outputs": []
    },
    {
      "cell_type": "code",
      "source": [
        "# Question 19.  Write a code to access the first element of the tuple ('apple', 'banana', 'cherry').\n",
        "\n",
        "'''\n",
        "my_tuple = ('apple', 'banana', 'cherry')\n",
        "\n",
        "first_element = my_tuple[0]\n",
        "\n",
        "# Printing the first element\n",
        "print(first_element)\n",
        "\n",
        "'''\n"
      ],
      "metadata": {
        "id": "KAESnJKDtRTg"
      },
      "execution_count": null,
      "outputs": []
    },
    {
      "cell_type": "code",
      "source": [
        "# Question 20.Write a code to count how many times the number 2 appears in the tuple (1, 2, 3, 2, 4, 2).\n",
        "\n",
        "'''\n",
        "\n",
        "my_tuple = (1, 2, 3, 2, 4, 2)\n",
        "\n",
        "# Counting how many times the number 2 appears\n",
        "count_of_two = my_tuple.count(2)\n",
        "\n",
        "# Printing the result\n",
        "print(count_of_two)\n",
        "\n",
        "'''"
      ],
      "metadata": {
        "id": "DGM6ATDZtjXE"
      },
      "execution_count": null,
      "outputs": []
    },
    {
      "cell_type": "code",
      "source": [
        "# Question 21. Write a code to find the index of the element \"cat\" in the tuple ('dog', 'cat', 'rabbit').\n",
        "\n",
        "'''\n",
        "# Defining the tuple\n",
        "my_tuple = ('dog', 'cat', 'rabbit')\n",
        "\n",
        "# Finding the index of the element \"cat\"\n",
        "index_of_cat = my_tuple.index('cat')\n",
        "\n",
        "# Printing the index\n",
        "print(index_of_cat)\n",
        "\n",
        "'''\n"
      ],
      "metadata": {
        "id": "knbvoNIltwiB"
      },
      "execution_count": null,
      "outputs": []
    },
    {
      "cell_type": "code",
      "source": [
        "# Question 22. Write a code to check if the element \"banana\" is in the tuple ('apple', 'orange', 'banana').\n",
        "\n",
        "'''\n",
        "my_tuple = ('apple', 'orange', 'banana')\n",
        "\n",
        "# Checking if 'banana' is in the tuple\n",
        "is_banana_in_tuple = 'banana' in my_tuple\n",
        "\n",
        "print(is_banana_in_tuple)\n",
        "\n",
        "'''\n"
      ],
      "metadata": {
        "id": "EMsMgLhpuAB3"
      },
      "execution_count": null,
      "outputs": []
    },
    {
      "cell_type": "code",
      "source": [
        "# Question 23. Write a code to create a set with the elements 1, 2, 3, 4, 5 and print it.\n",
        "\n",
        "'''\n",
        "my_set = {1, 2, 3, 4, 5}\n",
        "\n",
        "# Print the set\n",
        "print(my_set)\n",
        "\n",
        "'''\n"
      ],
      "metadata": {
        "id": "OWbK36G1uRq-"
      },
      "execution_count": null,
      "outputs": []
    },
    {
      "cell_type": "code",
      "source": [
        "# Question 24. Write a code to add the element 6 to the set {1, 2, 3, 4}.\n",
        "\n",
        "'''\n",
        "my_set = {1, 2, 3, 4}\n",
        "\n",
        "# Add the element 6 to the set\n",
        "my_set.add(6)\n",
        "\n",
        "# Print the updated set\n",
        "print(my_set)\n",
        "\n",
        "'''\n"
      ],
      "metadata": {
        "id": "KM3hM3W8u3yk"
      },
      "execution_count": null,
      "outputs": []
    },
    {
      "cell_type": "code",
      "source": [],
      "metadata": {
        "id": "JRoC0MucvFJC"
      },
      "execution_count": null,
      "outputs": []
    }
  ]
}